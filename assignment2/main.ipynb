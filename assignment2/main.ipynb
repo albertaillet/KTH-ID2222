{
 "cells": [
  {
   "cell_type": "code",
   "execution_count": null,
   "metadata": {},
   "outputs": [],
   "source": []
  }
 ],
 "metadata": {
  "kernelspec": {
   "display_name": "Python 3.10.0 ('id2222-env-2')",
   "language": "python",
   "name": "python3"
  },
  "language_info": {
   "name": "python",
   "version": "3.10.0"
  },
  "orig_nbformat": 4,
  "vscode": {
   "interpreter": {
    "hash": "73bc85121169f3539075934827cfa7beb3daaa6808c8b17e18a3125276d1c2fb"
   }
  }
 },
 "nbformat": 4,
 "nbformat_minor": 2
}
