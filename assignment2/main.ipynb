{
 "cells": [
  {
   "cell_type": "markdown",
   "metadata": {},
   "source": [
    "## Imports"
   ]
  },
  {
   "cell_type": "code",
   "execution_count": null,
   "metadata": {},
   "outputs": [],
   "source": [
    "from apriori import A_Priori\n",
    "from time import time\n",
    "import matplotlib.pyplot as plt"
   ]
  },
  {
   "cell_type": "code",
   "execution_count": null,
   "metadata": {},
   "outputs": [],
   "source": [
    "# Reading data from sale_data.dat file\n",
    "\n",
    "with open('sale_data.dat') as f:\n",
    "    data: list[set[int]] = [{int(i) for i in b.split()} for b in f.readlines()]\n",
    "\n",
    "n_baskets = len(data)\n",
    "print(f'The number of baskets is: {n_baskets}')\n",
    "\n",
    "print(data[:4])"
   ]
  },
  {
   "cell_type": "markdown",
   "metadata": {},
   "source": [
    "## Find frequent itemsets"
   ]
  },
  {
   "cell_type": "code",
   "execution_count": null,
   "metadata": {},
   "outputs": [],
   "source": [
    "s = 500\n",
    "c = 0.5\n",
    "k = 3\n",
    "\n",
    "start = time()\n",
    "frequent_itemsets = A_Priori.get_frequent_itemsets(data, k, s)\n",
    "delta_t = time() - start\n",
    "\n",
    "print(f'The itemsets until k={k} have been found in {delta_t} seconds')"
   ]
  },
  {
   "cell_type": "markdown",
   "metadata": {},
   "source": [
    "## Mine frequent rules"
   ]
  },
  {
   "cell_type": "code",
   "execution_count": null,
   "metadata": {},
   "outputs": [],
   "source": [
    "start = time()\n",
    "rules = A_Priori.mine_frequent_rules(frequent_itemsets, c)\n",
    "delta_t = time() - start\n",
    "\n",
    "print(f'The rules have been found in {delta_t} seconds')"
   ]
  },
  {
   "cell_type": "markdown",
   "metadata": {},
   "source": [
    "## Check the results with existing library"
   ]
  },
  {
   "cell_type": "code",
   "execution_count": null,
   "metadata": {},
   "outputs": [],
   "source": [
    "import pandas as pd\n",
    "from mlxtend.preprocessing import TransactionEncoder\n",
    "from mlxtend.frequent_patterns import fpgrowth, association_rules\n",
    "\n",
    "te = TransactionEncoder()\n",
    "te_ary = te.fit(data).transform(data)\n",
    "df = pd.DataFrame(te_ary, columns=te.columns_)  # type: ignore\n",
    "ml_fp = fpgrowth(df, min_support=s/n_baskets, use_colnames=True, max_len=k)\n",
    "ml_rules = association_rules(ml_fp, metric=\"confidence\", min_threshold=c)\n",
    "\n",
    "print(f'The number of frequent itemsets found by the mlxtend library is: {len(ml_fp)}')\n",
    "print(f'The number of frequent itemsets found by the apriori algorithm is: {sum([len(v) for v in frequent_itemsets.values()])}\\n')\n",
    "\n",
    "print(f'The number of rules found by the mlxtend library is: {len(ml_rules)}')\n",
    "print(f'The number of rules found by the apriori algorithm is: {sum([len(rules[x]) for x in rules])} \\n')"
   ]
  },
  {
   "cell_type": "markdown",
   "metadata": {},
   "source": [
    "## Some plots"
   ]
  },
  {
   "cell_type": "code",
   "execution_count": null,
   "metadata": {},
   "outputs": [],
   "source": [
    "# plot how the number of frequent itemsets we find changes with k\n",
    "\n",
    "# fix k and change s, record number of frequent itemsets\n",
    "k = 4\n",
    "s_vals = [100, 250, 500, 1000, 5000]\n",
    "n_frequent_itemsets = []\n",
    "for s in s_vals:\n",
    "    frequent_itemsets = A_Priori.get_frequent_itemsets(data, k, s)\n",
    "    n_frequent_itemsets.append(sum([len(v) for v in frequent_itemsets.values()]))\n",
    "\n",
    "# fix s and change k, record time\n",
    "s = 500\n",
    "k_vals = [2, 3, 4, 5]\n",
    "time_spent = []\n",
    "for k in k_vals:\n",
    "    start = time()\n",
    "    A_Priori.get_frequent_itemsets(data, k, s)\n",
    "    time_spent.append(time() - start)\n",
    "\n",
    "# fix s and k, change c and record the number of rules it finds\n",
    "k = 4\n",
    "s = 500\n",
    "c_vals = [0.5, 0.6, 0.7, 0.8, 0.9]\n",
    "fi = A_Priori.get_frequent_itemsets(data, k, s)\n",
    "n_rules = []\n",
    "for c in c_vals:\n",
    "    rules = A_Priori.mine_frequent_rules(fi, c)\n",
    "    n_rules.append(sum([len(rules[x]) for x in rules]))"
   ]
  },
  {
   "cell_type": "code",
   "execution_count": null,
   "metadata": {},
   "outputs": [],
   "source": [
    "print(len([f'{set(b)} -> {set(a - b)}' for a, s in rules.items() for b in s]))"
   ]
  },
  {
   "cell_type": "code",
   "execution_count": null,
   "metadata": {},
   "outputs": [],
   "source": [
    "plt.plot(s_vals, n_frequent_itemsets, '-x')\n",
    "plt.title('Number of frequent itemsets vs s, using k=4')\n",
    "plt.xlabel('s')\n",
    "plt.ylabel('number of frequent itemsets')\n",
    "plt.grid()\n",
    "plt.show()\n",
    "\n",
    "plt.plot(k_vals, time_spent, '-x')\n",
    "plt.title('Time spent vs k, using s=1000')\n",
    "plt.xlabel('k')\n",
    "plt.ylabel('time')\n",
    "plt.grid()\n",
    "plt.show()\n",
    "\n",
    "plt.plot(c_vals, n_rules, '-x')\n",
    "plt.title('Number of rules vs c, using s=1000 and k=4')\n",
    "plt.xlabel('c')\n",
    "plt.ylabel('number of rules')\n",
    "plt.grid()\n",
    "plt.show()\n"
   ]
  }
 ],
 "metadata": {
  "kernelspec": {
   "display_name": "Python 3.10.0 ('id2222-env-2')",
   "language": "python",
   "name": "python3"
  },
  "language_info": {
   "codemirror_mode": {
    "name": "ipython",
    "version": 3
   },
   "file_extension": ".py",
   "mimetype": "text/x-python",
   "name": "python",
   "nbconvert_exporter": "python",
   "pygments_lexer": "ipython3",
   "version": "3.10.0"
  },
  "orig_nbformat": 4,
  "vscode": {
   "interpreter": {
    "hash": "3c534ca213996ae72504f17e6d29a7de673c3098c35a96ae45b170842e603327"
   }
  }
 },
 "nbformat": 4,
 "nbformat_minor": 2
}
