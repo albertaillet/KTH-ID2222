{
 "cells": [
  {
   "cell_type": "markdown",
   "metadata": {},
   "source": [
    "## Imports"
   ]
  },
  {
   "cell_type": "code",
   "execution_count": null,
   "metadata": {},
   "outputs": [],
   "source": [
    "import numpy as np\n",
    "from apriori import A_Priori\n",
    "from time import time"
   ]
  },
  {
   "cell_type": "code",
   "execution_count": null,
   "metadata": {},
   "outputs": [],
   "source": [
    "# Reading data from sale_data.dat file\n",
    "\n",
    "with open('sale_data.dat') as f:\n",
    "    data: list[set[int]] = [{int(i) for i in b.split()} for b in f.readlines()]\n",
    "\n",
    "n_baskets = len(data)\n",
    "print(f'The number of baskets is: {n_baskets}')\n",
    "\n",
    "print(data[:4])"
   ]
  },
  {
   "cell_type": "markdown",
   "metadata": {},
   "source": [
    "## Find frequent itemsets"
   ]
  },
  {
   "cell_type": "code",
   "execution_count": null,
   "metadata": {},
   "outputs": [],
   "source": [
    "s = 500\n",
    "c = 0.5\n",
    "k = 3\n",
    "\n",
    "start = time()\n",
    "frequent_itemsets = A_Priori.get_frequent_itemsets(data, k, s)\n",
    "delta_t = time() - start\n",
    "\n",
    "print(f'The itemsets until k={k} have been found in {delta_t} seconds')"
   ]
  },
  {
   "cell_type": "markdown",
   "metadata": {},
   "source": [
    "## Mine frequent rules"
   ]
  },
  {
   "cell_type": "code",
   "execution_count": null,
   "metadata": {},
   "outputs": [],
   "source": [
    "start = time()\n",
    "rules = A_Priori.mine_frequent_rules(frequent_itemsets, c)\n",
    "delta_t = time() - start\n",
    "\n",
    "print(f'The rules have been found in {delta_t} seconds')"
   ]
  },
  {
   "cell_type": "markdown",
   "metadata": {},
   "source": [
    "## Check the results with existing library"
   ]
  },
  {
   "cell_type": "code",
   "execution_count": null,
   "metadata": {},
   "outputs": [],
   "source": [
    "import pandas as pd\n",
    "from mlxtend.preprocessing import TransactionEncoder\n",
    "from mlxtend.frequent_patterns import fpgrowth, association_rules\n",
    "\n",
    "te = TransactionEncoder()\n",
    "te_ary = te.fit(data).transform(data)\n",
    "df = pd.DataFrame(te_ary, columns=te.columns_)  # type: ignore\n",
    "ml_fp = fpgrowth(df, min_support=s/n_baskets, use_colnames=True, max_len=k)\n",
    "ml_rules = association_rules(ml_fp, metric=\"confidence\", min_threshold=c)\n",
    "\n",
    "print(f'The number of frequent itemsets found by the mlxtend library is: {len(ml_fp)}')\n",
    "print(f'The number of frequent itemsets found by the apriori algorithm is: {np.sum([len(v) for v in frequent_itemsets.values()])}\\n')\n",
    "\n",
    "print(f'The number of rules found by the mlxtend library is: {len(ml_rules)}')\n",
    "print(f'The number of rules found by the apriori algorithm is: {np.sum([len(rules[x]) for x in rules])} \\n')"
   ]
  },
  {
   "cell_type": "markdown",
   "metadata": {},
   "source": [
    "## Some plots"
   ]
  },
  {
   "cell_type": "code",
   "execution_count": null,
   "metadata": {},
   "outputs": [],
   "source": [
    "A_Priori.some_plots(data)"
   ]
  },
  {
   "cell_type": "code",
   "execution_count": null,
   "metadata": {},
   "outputs": [],
   "source": []
  }
 ],
 "metadata": {
  "kernelspec": {
   "display_name": "Python 3.10.0 ('id2222-env-2')",
   "language": "python",
   "name": "python3"
  },
  "language_info": {
   "codemirror_mode": {
    "name": "ipython",
    "version": 3
   },
   "file_extension": ".py",
   "mimetype": "text/x-python",
   "name": "python",
   "nbconvert_exporter": "python",
   "pygments_lexer": "ipython3",
   "version": "3.10.0"
  },
  "orig_nbformat": 4,
  "vscode": {
   "interpreter": {
    "hash": "73bc85121169f3539075934827cfa7beb3daaa6808c8b17e18a3125276d1c2fb"
   }
  }
 },
 "nbformat": 4,
 "nbformat_minor": 2
}
