{
 "cells": [
  {
   "cell_type": "code",
   "execution_count": null,
   "metadata": {},
   "outputs": [],
   "source": [
    "# imports \n",
    "import numpy as np\n",
    "import matplotlib.pyplot as plt\n",
    "import csv\n",
    "import networkx as nx\n",
    "\n",
    "from scipy.linalg import fractional_matrix_power\n",
    "from sklearn.cluster import KMeans\n",
    "\n",
    "# typing \n",
    "from numpy import ndarray\n",
    "\n",
    "def load_data(filename: str) -> list[tuple[int, int]]:\n",
    "        '''Load data from file and return it as a list of frozensets.'''\n",
    "        with open(f'data/{filename}.dat', newline='') as csvfile:\n",
    "            edges_reader = list(csv.reader(csvfile, delimiter=',', quotechar='|'))\n",
    "            values = len(edges_reader[0])\n",
    "            if values==2:\n",
    "                edges = list(tuple((int(a), int(b))) for a, b in edges_reader)\n",
    "            else:\n",
    "                edges = list(tuple((int(a), int(b))) for a, b, c in edges_reader)\n",
    "        return edges\n",
    "    \n",
    "def get_adj_mtx(edges_list: list[tuple[int, int]]) -> ndarray:\n",
    "    max_idx = max(max(*edges_list))\n",
    "    A = np.zeros(shape=(max_idx, max_idx), dtype=int)\n",
    "    for i, j in edges_list:\n",
    "        A[i-1, j-1] = 1\n",
    "        A[j-1, i-1] = 1\n",
    "    return A\n",
    "\n",
    "def draw_graph(A: ndarray, labels: ndarray):\n",
    "    graph = nx.from_numpy_array(A)\n",
    "    pos = nx.spring_layout(graph)\n",
    "    nx.draw_networkx(graph, pos=pos, node_size=10, node_color=labels, with_labels=False, cmap=plt.cm.Set3)  # type: ignore\n",
    "    plt.show()\n",
    "\n",
    "def spectral_clustering(A: ndarray, k: int) -> ndarray:\n",
    "    D = np.diag(np.sum(A, axis=1))\n",
    "    D_inv = np.linalg.inv(np.sqrt(D))\n",
    "    L = D_inv @ A @ D_inv\n",
    "\n",
    "    # get eigenvalues and eigenvectors\n",
    "    _, eigenvectors = np.linalg.eigh(L)\n",
    "\n",
    "    # exctract the k biggest eigenvectors in X\n",
    "    X = eigenvectors[:, -k:]\n",
    "    \n",
    "    # renormalize X rows to get Y\n",
    "    Y = X / np.power(np.sum(X**2, axis=1, keepdims=True), 0.5)\n",
    "    \n",
    "    # cluster the rows of Y using k-means clustering\n",
    "    kmeans = KMeans(n_clusters=k).fit(Y)\n",
    "    labels = kmeans.labels_\n",
    "    return labels  # type: ignore\n",
    "\n",
    "def plot_fiedler(A: ndarray):\n",
    "    # get eigenvalues and eigenvectors\n",
    "    _, eigenvectors = np.linalg.eigh(A)\n",
    "\n",
    "    # extract the Fiedler vector (second smallest eigenvector)\n",
    "    fiedler_eigenvector = sorted(eigenvectors[:, 1])\n",
    "    plt.plot(np.arange(len(fiedler_eigenvector)), fiedler_eigenvector)\n",
    "    plt.show()\n"
   ]
  },
  {
   "cell_type": "markdown",
   "metadata": {},
   "source": [
    "# Fiedler vector example"
   ]
  },
  {
   "cell_type": "code",
   "execution_count": null,
   "metadata": {},
   "outputs": [],
   "source": [
    "# graphs: example1, example2\n",
    "graph = load_data('example2')\n",
    "k = 2\n",
    "\n",
    "A = get_adj_mtx(graph)\n",
    "\n",
    "plt.spy(A)\n",
    "plt.show()\n",
    "plot_fiedler(A)\n",
    "l = spectral_clustering(A, k)\n",
    "draw_graph(A, labels=l)\n"
   ]
  },
  {
   "cell_type": "code",
   "execution_count": null,
   "metadata": {},
   "outputs": [],
   "source": []
  },
  {
   "cell_type": "code",
   "execution_count": null,
   "metadata": {},
   "outputs": [],
   "source": []
  },
  {
   "cell_type": "code",
   "execution_count": null,
   "metadata": {},
   "outputs": [],
   "source": []
  }
 ],
 "metadata": {
  "kernelspec": {
   "display_name": "Python 3.10.0 ('id2222-env-2')",
   "language": "python",
   "name": "python3"
  },
  "language_info": {
   "codemirror_mode": {
    "name": "ipython",
    "version": 3
   },
   "file_extension": ".py",
   "mimetype": "text/x-python",
   "name": "python",
   "nbconvert_exporter": "python",
   "pygments_lexer": "ipython3",
   "version": "3.10.0"
  },
  "orig_nbformat": 4,
  "vscode": {
   "interpreter": {
    "hash": "73bc85121169f3539075934827cfa7beb3daaa6808c8b17e18a3125276d1c2fb"
   }
  }
 },
 "nbformat": 4,
 "nbformat_minor": 2
}
