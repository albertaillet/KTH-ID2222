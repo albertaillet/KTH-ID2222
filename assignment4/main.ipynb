{
 "cells": [
  {
   "cell_type": "markdown",
   "metadata": {},
   "source": [
    "# Graph spectra\n",
    "\n",
    "The topic of this assignment is to implement the Spectral clustering method proposed in the paper \"On Spectral Clustering: Analysis and an algorithm\". We will apply it to 2 graphs, a real one and a synthetic one.\n",
    "\n",
    "The algorithm works is described as follows:\n",
    "<p float=\"top\">\n",
    "  <img src=\"pseudo.png\" width=\"522\" />\n",
    "</p>\n",
    "\n",
    "In our case the A matrix will be the adjacency matrix of the graph directly.\n",
    "\n",
    "In the first part of the project we compute the Fiedler vector, which is the eigenvector of the Laplacian matrix corresponding to the second smallest eigenvalue. It is useful because it conveys information regarding the number of components that there are in the graph.\n",
    "\n",
    "Next, we implement the algorithm as described in the paper. The goal is to perform clustering on the nodes of the graph, trying to separate nodes belonging to different components.\n",
    "\n",
    "One thing we tried to do, is to use an heuristic that computes the number of clusters k that we desire to find in the graph.\n"
   ]
  },
  {
   "cell_type": "code",
   "execution_count": null,
   "metadata": {},
   "outputs": [],
   "source": [
    "# import\n",
    "import utils\n",
    "from importlib import reload\n",
    "import matplotlib.pyplot as plt\n",
    "utils = reload(utils)"
   ]
  },
  {
   "cell_type": "markdown",
   "metadata": {},
   "source": [
    "# Example 1"
   ]
  },
  {
   "cell_type": "code",
   "execution_count": null,
   "metadata": {},
   "outputs": [],
   "source": [
    "# graphs: example1, example2\n",
    "graph = utils.load_data('example1')\n",
    "\n",
    "# if None it uses an heuristic to find the number of clusters\n",
    "k = 4\n",
    "\n",
    "A = utils.get_adj_mtx(graph)\n",
    "L = utils.get_laplacian(A)\n",
    "l = utils.spectral_clustering(A, k=k)\n",
    "\n",
    "utils.plots(L, A, l, k=k)\n",
    "\n",
    "# use networkx to get the fiedler vector of the graph\n",
    "# import networkx as nx\n",
    "# import matplotlib.pyplot as plt\n",
    "# import numpy as np\n",
    "# graph = nx.from_numpy_array(A)\n",
    "# fiedler_vector = nx.fiedler_vector(graph)\n",
    "# plt.plot(np.arange(len(fiedler_vector)), sorted(fiedler_vector))\n",
    "# plt.show()\n"
   ]
  },
  {
   "cell_type": "markdown",
   "metadata": {},
   "source": [
    "# Example 2"
   ]
  },
  {
   "cell_type": "code",
   "execution_count": null,
   "metadata": {},
   "outputs": [],
   "source": [
    "# graphs: example1, example2\n",
    "graph = utils.load_data('example2')\n",
    "\n",
    "# if None it uses an heuristic to find the number of clusters\n",
    "k = 2\n",
    "\n",
    "A = utils.get_adj_mtx(graph)\n",
    "L = utils.get_laplacian(A)\n",
    "l = utils.spectral_clustering(A, k=k)\n",
    "\n",
    "utils.plots(L, A, l, k=k)"
   ]
  },
  {
   "cell_type": "code",
   "execution_count": null,
   "metadata": {},
   "outputs": [],
   "source": []
  }
 ],
 "metadata": {
  "kernelspec": {
   "display_name": "Python 3.10.0 ('id2222-env-2')",
   "language": "python",
   "name": "python3"
  },
  "language_info": {
   "codemirror_mode": {
    "name": "ipython",
    "version": 3
   },
   "file_extension": ".py",
   "mimetype": "text/x-python",
   "name": "python",
   "nbconvert_exporter": "python",
   "pygments_lexer": "ipython3",
   "version": "3.10.0"
  },
  "orig_nbformat": 4,
  "vscode": {
   "interpreter": {
    "hash": "73bc85121169f3539075934827cfa7beb3daaa6808c8b17e18a3125276d1c2fb"
   }
  }
 },
 "nbformat": 4,
 "nbformat_minor": 2
}
