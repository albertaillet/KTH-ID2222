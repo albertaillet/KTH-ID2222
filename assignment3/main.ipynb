{
 "cells": [
  {
   "cell_type": "markdown",
   "metadata": {},
   "source": [
    "# Imports"
   ]
  },
  {
   "cell_type": "code",
   "execution_count": null,
   "metadata": {},
   "outputs": [],
   "source": [
    "import numpy as np\n",
    "import matplotlib.pyplot as plt\n",
    "import pandas as pd\n",
    "import seaborn as sns\n",
    "import csv\n",
    "\n",
    "# dataset links\n",
    "# twitch-gamers -> https://snap.stanford.edu/data/twitch_gamers.html\n",
    "\n",
    "def load_data(filename: str) -> list[frozenset[int]]:\n",
    "    \"\"\"Load data from file and return it as a list of frozensets.\"\"\"\n",
    "    with open(f'data/{filename}/{filename}_edges.csv', newline='') as csvfile:\n",
    "        edges_reader = csv.reader(csvfile, delimiter=',', quotechar='|')\n",
    "        edges = list(frozenset((int(a), int(b))) for a,b in list(edges_reader)[1:])\n",
    "    return edges\n",
    "\n",
    "graph_name = 'large_twitch'\n",
    "edges = load_data(graph_name)"
   ]
  },
  {
   "cell_type": "code",
   "execution_count": null,
   "metadata": {},
   "outputs": [],
   "source": [
    "class Trièst():\n",
    "    def __init__(self, M):\n",
    "        self.M = M\n",
    "\n",
    "    def reservoir_sampling(self, t: int) -> int:\n",
    "        '''Returns -1 if the new edge is not kept in memory, otherwise the index of the reservoir that has to be substituted'''\n",
    "        if t <= self.M: \n",
    "            return t\n",
    "        else:\n",
    "            u = np.random.uniform()\n",
    "            if u < self.M / t:\n",
    "                return np.random.choice(M)\n",
    "            else:\n",
    "                return -1\n",
    "\n",
    "\n",
    "M = 7\n",
    "triest = Trièst(M)\n",
    "x = triest.reservoir_sampling(0)"
   ]
  },
  {
   "cell_type": "code",
   "execution_count": null,
   "metadata": {},
   "outputs": [],
   "source": []
  },
  {
   "cell_type": "code",
   "execution_count": null,
   "metadata": {},
   "outputs": [],
   "source": []
  },
  {
   "cell_type": "code",
   "execution_count": null,
   "metadata": {},
   "outputs": [],
   "source": []
  },
  {
   "cell_type": "code",
   "execution_count": null,
   "metadata": {},
   "outputs": [],
   "source": []
  },
  {
   "cell_type": "code",
   "execution_count": null,
   "metadata": {},
   "outputs": [],
   "source": []
  }
 ],
 "metadata": {
  "kernelspec": {
   "display_name": "Python 3.10.0 ('id2222-env-2')",
   "language": "python",
   "name": "python3"
  },
  "language_info": {
   "codemirror_mode": {
    "name": "ipython",
    "version": 3
   },
   "file_extension": ".py",
   "mimetype": "text/x-python",
   "name": "python",
   "nbconvert_exporter": "python",
   "pygments_lexer": "ipython3",
   "version": "3.10.0"
  },
  "orig_nbformat": 4,
  "vscode": {
   "interpreter": {
    "hash": "73bc85121169f3539075934827cfa7beb3daaa6808c8b17e18a3125276d1c2fb"
   }
  }
 },
 "nbformat": 4,
 "nbformat_minor": 2
}
