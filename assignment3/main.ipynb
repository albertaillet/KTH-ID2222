{
 "cells": [
  {
   "cell_type": "markdown",
   "metadata": {},
   "source": [
    "# Imports"
   ]
  },
  {
   "cell_type": "code",
   "execution_count": null,
   "metadata": {},
   "outputs": [],
   "source": [
    "from trièst import Trièst\n",
    "\n",
    "'''\n",
    "dataset links:\n",
    " - twitch-gamers -> https://snap.stanford.edu/data/twitch_gamers.html\n",
    "'''\n",
    "\n",
    "graph_name = 'large_twitch'\n",
    "triest = Trièst(graph_name)"
   ]
  },
  {
   "cell_type": "markdown",
   "metadata": {},
   "source": [
    "# Trièst algorithm"
   ]
  },
  {
   "cell_type": "code",
   "execution_count": null,
   "metadata": {},
   "outputs": [],
   "source": [
    "M = 1000000\n",
    "T = 10000\n",
    "triest.trièst_base(M, T)\n",
    "print(f'Estimated number of triangles: {triest.t_global}')\n"
   ]
  },
  {
   "cell_type": "markdown",
   "metadata": {},
   "source": [
    "# Checking the results using Networkx"
   ]
  },
  {
   "cell_type": "code",
   "execution_count": null,
   "metadata": {},
   "outputs": [],
   "source": [
    "triangles = triest.triangles_count(10000)\n",
    "print(f'Number of triangles in the graph: {sum(triangles) // 3}') # type: ignores"
   ]
  }
 ],
 "metadata": {
  "kernelspec": {
   "display_name": "Python 3.10.0 ('id2222-env-2')",
   "language": "python",
   "name": "python3"
  },
  "language_info": {
   "codemirror_mode": {
    "name": "ipython",
    "version": 3
   },
   "file_extension": ".py",
   "mimetype": "text/x-python",
   "name": "python",
   "nbconvert_exporter": "python",
   "pygments_lexer": "ipython3",
   "version": "3.10.0"
  },
  "orig_nbformat": 4,
  "vscode": {
   "interpreter": {
    "hash": "73bc85121169f3539075934827cfa7beb3daaa6808c8b17e18a3125276d1c2fb"
   }
  }
 },
 "nbformat": 4,
 "nbformat_minor": 2
}
