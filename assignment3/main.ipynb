{
 "cells": [
  {
   "cell_type": "markdown",
   "metadata": {},
   "source": [
    "# Imports"
   ]
  },
  {
   "cell_type": "code",
   "execution_count": null,
   "metadata": {},
   "outputs": [],
   "source": [
    "# imports\n",
    "import numpy as np\n",
    "import csv\n",
    "from tqdm import tqdm\n",
    "\n",
    "# typing\n",
    "from collections import defaultdict\n",
    "from typing import Union\n",
    "\n",
    "'''\n",
    "dataset links:\n",
    " - twitch-gamers -> https://snap.stanford.edu/data/twitch_gamers.html\n",
    "'''\n",
    "\n",
    "\n",
    "graph_name = 'large_twitch'"
   ]
  },
  {
   "cell_type": "code",
   "execution_count": null,
   "metadata": {},
   "outputs": [],
   "source": [
    "\n",
    "class Trièst():\n",
    "    def __init__(self, graph_name: str):\n",
    "        self.edges = Trièst.load_data(graph_name)\n",
    "        print(f'Data has been loaded!\\nIt has {len(self.edges)} edges')\n",
    "        \n",
    "\n",
    "    @staticmethod\n",
    "    def load_data(filename: str) -> list[tuple[int, int]]:\n",
    "        '''Load data from file and return it as a list of frozensets.'''\n",
    "        with open(f'data/{filename}/{filename}_edges.csv', newline='') as csvfile:\n",
    "            edges_reader = csv.reader(csvfile, delimiter=',', quotechar='|')\n",
    "            edges = list(tuple((int(a), int(b))) for a, b in list(edges_reader)[1:])\n",
    "        return edges\n",
    "\n",
    "    def reservoir_sampling(self, t: int) -> int:\n",
    "        '''Returns -1 if the new edge is not kept in memory, otherwise the index of the reservoir that has to be substituted'''\n",
    "        if t < self.M: \n",
    "            return t\n",
    "        else:\n",
    "            u = np.random.uniform()\n",
    "            if u < self.M / t:                \n",
    "                return np.random.choice(self.M)\n",
    "            else:\n",
    "                return -1\n",
    "\n",
    "    def update_counters(self, edge: Union[tuple[int, int], tuple[None, None]], insert: bool=True) -> None:\n",
    "        '''Updates the counters for estimating the number of triangles in S'''\n",
    "        u = edge[0]\n",
    "        v = edge[1]\n",
    "\n",
    "        N_u_v = self.N[u] & self.N[v]\n",
    "        \n",
    "        self.t_global += len(N_u_v) if insert else -len(N_u_v)\n",
    "        self.t_local[u] += len(N_u_v) if insert else -len(N_u_v)\n",
    "        self.t_local[v] += len(N_u_v) if insert else -len(N_u_v)\n",
    "\n",
    "        for c in N_u_v:\n",
    "            self.t_local[c] += 1 if insert else -1    \n",
    "\n",
    "    def trièst_base(self, M: int, T: int) -> None:\n",
    "        '''Reads throught the edges sequentially, and updates the counters following the algorithm.'''\n",
    "        self.M = M\n",
    "        self.S: list[Union[tuple[int, int], tuple[None, None]]] = [(None, None)] * M\n",
    "        self.t_global = 0\n",
    "        self.t_local = defaultdict(lambda: 0) \n",
    "        self.N = defaultdict(set) # type: ignore\n",
    "\n",
    "        for t in tqdm(range(T)):\n",
    "            rs = self.reservoir_sampling(t)\n",
    "            if rs != -1:\n",
    "                if t >= M:\n",
    "                    edge_to_substitute = self.S[rs]\n",
    "                    self.N[edge_to_substitute[0]].remove(edge_to_substitute[1])\n",
    "                    self.N[edge_to_substitute[1]].remove(edge_to_substitute[0])\n",
    "                    self.update_counters(edge_to_substitute, False)\n",
    "\n",
    "                new_edge = self.edges[t]\n",
    "                self.S[rs] = new_edge\n",
    "                self.N[new_edge[0]].add(new_edge[1])\n",
    "                self.N[new_edge[1]].add(new_edge[0])\n",
    "                \n",
    "                self.update_counters(new_edge)\n",
    "                \n",
    "                \n",
    "        \n",
    "triest = Trièst(graph_name)\n"
   ]
  },
  {
   "cell_type": "code",
   "execution_count": null,
   "metadata": {},
   "outputs": [],
   "source": [
    "M = 1000000\n",
    "triest.trièst_base(M, 1000000)\n"
   ]
  },
  {
   "cell_type": "code",
   "execution_count": null,
   "metadata": {},
   "outputs": [],
   "source": []
  },
  {
   "cell_type": "code",
   "execution_count": null,
   "metadata": {},
   "outputs": [],
   "source": []
  }
 ],
 "metadata": {
  "kernelspec": {
   "display_name": "Python 3.10.0 ('id2222-env-2')",
   "language": "python",
   "name": "python3"
  },
  "language_info": {
   "codemirror_mode": {
    "name": "ipython",
    "version": 3
   },
   "file_extension": ".py",
   "mimetype": "text/x-python",
   "name": "python",
   "nbconvert_exporter": "python",
   "pygments_lexer": "ipython3",
   "version": "3.10.0"
  },
  "orig_nbformat": 4,
  "vscode": {
   "interpreter": {
    "hash": "73bc85121169f3539075934827cfa7beb3daaa6808c8b17e18a3125276d1c2fb"
   }
  }
 },
 "nbformat": 4,
 "nbformat_minor": 2
}
